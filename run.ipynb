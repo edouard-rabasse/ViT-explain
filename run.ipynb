{
 "cells": [
  {
   "cell_type": "code",
   "execution_count": 1,
   "metadata": {},
   "outputs": [],
   "source": [
    "import sys"
   ]
  },
  {
   "cell_type": "code",
   "execution_count": null,
   "metadata": {},
   "outputs": [],
   "source": [
    "sys.argv = [\n",
    "    \"vit_explain_modulable.py\",\n",
    "    \"--image_path\", \"./examples/both.png\",\n",
    "    \"--head_fusion\", \"mean\",\n",
    "    '--method', \"LRP\",\n",
    "    '--model_name', \"deit_tiny_patch16_224\",\n",
    "    \"--category_index\", \"243\",\n",
    "]"
   ]
  },
  {
   "cell_type": "code",
   "execution_count": 3,
   "metadata": {},
   "outputs": [
    {
     "name": "stdout",
     "output_type": "stream",
     "text": [
      "Using CPU\n"
     ]
    },
    {
     "name": "stderr",
     "output_type": "stream",
     "text": [
      "Using cache found in /users/eleves-b/2022/edouard.rabasse/.cache/torch/hub/facebookresearch_deit_main\n"
     ]
    },
    {
     "name": "stdout",
     "output_type": "stream",
     "text": [
      "Doing New Transformer Explainability Method\n",
      "Top 5 predictions: torch.return_types.topk(\n",
      "values=tensor([[6.7419, 5.2813, 4.8215, 4.6466, 4.2883]], grad_fn=<TopkBackward0>),\n",
      "indices=tensor([[243, 242, 282, 254, 281]]))\n"
     ]
    }
   ],
   "source": [
    "import vit_explain_modulable\n",
    "args = vit_explain_modulable.get_args()\n",
    "vit_explain_modulable.main(args)"
   ]
  }
 ],
 "metadata": {
  "kernelspec": {
   "display_name": "Python 3",
   "language": "python",
   "name": "python3"
  },
  "language_info": {
   "codemirror_mode": {
    "name": "ipython",
    "version": 3
   },
   "file_extension": ".py",
   "mimetype": "text/x-python",
   "name": "python",
   "nbconvert_exporter": "python",
   "pygments_lexer": "ipython3",
   "version": "3.9.21"
  }
 },
 "nbformat": 4,
 "nbformat_minor": 2
}
